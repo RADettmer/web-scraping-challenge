{
 "cells": [
  {
   "cell_type": "code",
   "execution_count": 1,
   "metadata": {},
   "outputs": [],
   "source": [
    "# Dependencies - - - - - - - - - - - - - Randy Dettmer 2020/04/20\n",
    "from splinter import Browser\n",
    "from bs4 import BeautifulSoup as bs\n",
    "import time\n",
    "import pandas as pd"
   ]
  },
  {
   "cell_type": "code",
   "execution_count": 2,
   "metadata": {},
   "outputs": [],
   "source": [
    "# Set browser to Chrome\n",
    "executable_path = {\"executable_path\": \"chromedriver.exe\"}\n",
    "browser = Browser(\"chrome\", **executable_path, headless=False)"
   ]
  },
  {
   "cell_type": "markdown",
   "metadata": {},
   "source": [
    "# NASA Mars News"
   ]
  },
  {
   "cell_type": "code",
   "execution_count": 3,
   "metadata": {},
   "outputs": [],
   "source": [
    "# Vist NASA mars web site\n",
    "url = \"https://mars.nasa.gov/news/\"\n",
    "browser.visit(url)"
   ]
  },
  {
   "cell_type": "code",
   "execution_count": 4,
   "metadata": {},
   "outputs": [],
   "source": [
    "# I had issues with responsiveness of this site so I added a delay for all of the html to load\n",
    "time.sleep(2)"
   ]
  },
  {
   "cell_type": "code",
   "execution_count": 5,
   "metadata": {},
   "outputs": [],
   "source": [
    "# Scrape page into soup - I used lxml because it seemed I received more consistant responses over html.parser\n",
    "html = browser.html\n",
    "soup = bs(html, \"lxml\")"
   ]
  },
  {
   "cell_type": "code",
   "execution_count": 6,
   "metadata": {
    "scrolled": true,
    "tags": []
   },
   "outputs": [],
   "source": [
    "# Print soup to identify tags needed - turned off for deployment\n",
    "#print(soup.prettify())\n",
    "#tags needed <div class='content_title'> and <div class='article_teaser-body'>"
   ]
  },
  {
   "cell_type": "code",
   "execution_count": 7,
   "metadata": {},
   "outputs": [],
   "source": [
    "# Get latest news title - get actual title - - \n",
    "# Index [0] returns \"Mars Now\" which is the overall title for the page not the news title\n",
    "news_title = soup.find_all('div', class_='content_title')[1].text"
   ]
  },
  {
   "cell_type": "code",
   "execution_count": 8,
   "metadata": {
    "tags": []
   },
   "outputs": [
    {
     "output_type": "stream",
     "name": "stdout",
     "text": "News Title: NASA's New Mars Rover Will Use X-Rays to Hunt Fossils\n"
    }
   ],
   "source": [
    "# Print news title\n",
    "print(f'News Title: {news_title}')"
   ]
  },
  {
   "cell_type": "code",
   "execution_count": 9,
   "metadata": {
    "scrolled": true
   },
   "outputs": [],
   "source": [
    "# Get paragraph text\n",
    "news_p = soup.find('div', class_='article_teaser_body').get_text()"
   ]
  },
  {
   "cell_type": "code",
   "execution_count": 10,
   "metadata": {
    "tags": []
   },
   "outputs": [
    {
     "output_type": "stream",
     "name": "stdout",
     "text": "News Paragraph: PIXL, an instrument on the end of the Perseverance rover's arm, will search for chemical fingerprints left by ancient microbes.\n"
    }
   ],
   "source": [
    "# Print news paragraph\n",
    "print(f'News Paragraph: {news_p}')"
   ]
  },
  {
   "cell_type": "markdown",
   "metadata": {},
   "source": [
    "# JPL Mars Space Images - Featured Image"
   ]
  },
  {
   "cell_type": "code",
   "execution_count": 11,
   "metadata": {},
   "outputs": [],
   "source": [
    "# Visit JPL site for current Mars space image\n",
    "image_url = \"https://www.jpl.nasa.gov/spaceimages/?search=&category=Mars\"\n",
    "browser.visit(image_url)\n",
    "html = browser.html\n",
    "soup = bs(html, \"lxml\")"
   ]
  },
  {
   "cell_type": "code",
   "execution_count": 12,
   "metadata": {
    "scrolled": true,
    "tags": []
   },
   "outputs": [],
   "source": [
    "# Print soup to identify tag needed - turned off for deployment\n",
    "#print(soup.prettify())"
   ]
  },
  {
   "cell_type": "code",
   "execution_count": 13,
   "metadata": {},
   "outputs": [],
   "source": [
    "# Click on button to get full size image\n",
    "full_image_button = browser.find_by_id(\"full_image\")\n",
    "full_image_button.click()"
   ]
  },
  {
   "cell_type": "code",
   "execution_count": 14,
   "metadata": {},
   "outputs": [],
   "source": [
    "# Find full image button anc click it\n",
    "browser.is_element_not_present_by_text(\"more info\", wait_time=1)\n",
    "more_info_button = browser.find_link_by_partial_text(\"more info\")\n",
    "more_info_button.click()"
   ]
  },
  {
   "cell_type": "code",
   "execution_count": 15,
   "metadata": {},
   "outputs": [],
   "source": [
    "# Scrape the first Mars image\n",
    "image = soup.find(\"img\", class_=\"thumb\")[\"src\"]\n",
    "featured_image_url = \"https://www.jpl.nasa.gov\" + image"
   ]
  },
  {
   "cell_type": "code",
   "execution_count": 16,
   "metadata": {
    "tags": []
   },
   "outputs": [
    {
     "output_type": "stream",
     "name": "stdout",
     "text": "https://www.jpl.nasa.gov/spaceimages/images/wallpaper/PIA24096-640x350.jpg\n"
    }
   ],
   "source": [
    "# Show image url\n",
    "print(featured_image_url)"
   ]
  },
  {
   "cell_type": "markdown",
   "metadata": {},
   "source": [
    "# Mars Weather"
   ]
  },
  {
   "cell_type": "code",
   "execution_count": 17,
   "metadata": {},
   "outputs": [],
   "source": [
    "# Visit the Mars Weather Twitter Account - tested and failed - issues with reactive Java Script\n",
    "#weather_url = \"https://twitter.com/marswxreport?lang=en\"\n",
    "#browser.visit(weather_url)\n",
    "#html = browser.html\n",
    "#soup = bs(html, \"html.parser\")"
   ]
  },
  {
   "cell_type": "code",
   "execution_count": 18,
   "metadata": {},
   "outputs": [],
   "source": [
    "# Visit the Mars Weather from NASA - alternative site used to collect the weather information for Mars\n",
    "weather_url = \"https://mars.nasa.gov/insight/weather/\"\n",
    "browser.visit(weather_url)\n",
    "html = browser.html\n",
    "soup = bs(html, \"lxml\")"
   ]
  },
  {
   "cell_type": "code",
   "execution_count": 19,
   "metadata": {
    "scrolled": false,
    "tags": []
   },
   "outputs": [],
   "source": [
    "# Mars Weather\n",
    "#print soup to idenitfy tags needed - turned off for deployment\n",
    "#print(soup.prettify())"
   ]
  },
  {
   "cell_type": "code",
   "execution_count": 20,
   "metadata": {
    "scrolled": true
   },
   "outputs": [],
   "source": [
    "#soup.tbody.find_all(\"span\") - shows everything for temperature and wind speed but no wind direction or pressure"
   ]
  },
  {
   "cell_type": "code",
   "execution_count": 21,
   "metadata": {},
   "outputs": [],
   "source": [
    "results = soup.find_all(\"span\")"
   ]
  },
  {
   "cell_type": "code",
   "execution_count": 22,
   "metadata": {},
   "outputs": [
    {
     "output_type": "execute_result",
     "data": {
      "text/plain": "'5.1° F'"
     },
     "metadata": {},
     "execution_count": 22
    }
   ],
   "source": [
    "# Maximum Temperature - ???\n",
    "# Index through the temperature information\n",
    "soup.tbody.find_all(\"span\", class_='fahrenheit')[0].text"
   ]
  },
  {
   "cell_type": "code",
   "execution_count": 23,
   "metadata": {},
   "outputs": [
    {
     "output_type": "execute_result",
     "data": {
      "text/plain": "'-69.3° F'"
     },
     "metadata": {},
     "execution_count": 23
    }
   ],
   "source": [
    "# Average Temperature\n",
    "soup.tbody.find_all(\"span\", class_='fahrenheit')[1].text"
   ]
  },
  {
   "cell_type": "code",
   "execution_count": 24,
   "metadata": {},
   "outputs": [
    {
     "output_type": "execute_result",
     "data": {
      "text/plain": "'-141° F'"
     },
     "metadata": {},
     "execution_count": 24
    }
   ],
   "source": [
    "# Maximum Temperature\n",
    "soup.tbody.find_all(\"span\", class_='fahrenheit')[2].text"
   ]
  },
  {
   "cell_type": "code",
   "execution_count": 25,
   "metadata": {},
   "outputs": [
    {
     "output_type": "execute_result",
     "data": {
      "text/plain": "'41.4'"
     },
     "metadata": {},
     "execution_count": 25
    }
   ],
   "source": [
    "# Maximum Wind Speed\n",
    "# Index through the wind speed information\n",
    "soup.tbody.find_all(\"span\", class_='mph')[0].text"
   ]
  },
  {
   "cell_type": "code",
   "execution_count": 26,
   "metadata": {},
   "outputs": [
    {
     "output_type": "execute_result",
     "data": {
      "text/plain": "'15.7'"
     },
     "metadata": {},
     "execution_count": 26
    }
   ],
   "source": [
    "# Average Wind Speed\n",
    "soup.tbody.find_all(\"span\", class_='mph')[1].text"
   ]
  },
  {
   "cell_type": "code",
   "execution_count": 27,
   "metadata": {},
   "outputs": [
    {
     "output_type": "execute_result",
     "data": {
      "text/plain": "'1.8'"
     },
     "metadata": {},
     "execution_count": 27
    }
   ],
   "source": [
    "# Minimum Wind Speed\n",
    "soup.tbody.find_all(\"span\", class_='mph')[2].text"
   ]
  },
  {
   "cell_type": "code",
   "execution_count": 28,
   "metadata": {},
   "outputs": [
    {
     "output_type": "execute_result",
     "data": {
      "text/plain": "'WNW'"
     },
     "metadata": {},
     "execution_count": 28
    }
   ],
   "source": [
    "# Wind Direction - change tag and class\n",
    "soup.tbody.find(\"td\", class_='windspeed point').text"
   ]
  },
  {
   "cell_type": "code",
   "execution_count": 29,
   "metadata": {},
   "outputs": [
    {
     "output_type": "execute_result",
     "data": {
      "text/plain": "'785'"
     },
     "metadata": {},
     "execution_count": 29
    }
   ],
   "source": [
    "# Pressure Maximum - change tag and class\n",
    "# Index [0] returns \"Max\" which is the overall title for the data not the data itself\n",
    "soup.tbody.find_all(\"td\", class_='pressure max')[1].text"
   ]
  },
  {
   "cell_type": "code",
   "execution_count": 30,
   "metadata": {},
   "outputs": [
    {
     "output_type": "execute_result",
     "data": {
      "text/plain": "'764.7'"
     },
     "metadata": {},
     "execution_count": 30
    }
   ],
   "source": [
    "# Pressure Average\n",
    "soup.tbody.find_all(\"td\", class_='pressure avg')[1].text"
   ]
  },
  {
   "cell_type": "code",
   "execution_count": 31,
   "metadata": {},
   "outputs": [
    {
     "output_type": "execute_result",
     "data": {
      "text/plain": "'738.2'"
     },
     "metadata": {},
     "execution_count": 31
    }
   ],
   "source": [
    "# Pressure Minimum\n",
    "soup.tbody.find_all(\"td\", class_='pressure min')[1].text"
   ]
  },
  {
   "cell_type": "markdown",
   "metadata": {},
   "source": [
    "# Mars Facts"
   ]
  },
  {
   "cell_type": "code",
   "execution_count": 32,
   "metadata": {},
   "outputs": [],
   "source": [
    "# Visit the Mars facts webpage\n",
    "facts_url = \"https://space-facts.com/mars/\"\n",
    "browser.visit(facts_url)"
   ]
  },
  {
   "cell_type": "code",
   "execution_count": 33,
   "metadata": {},
   "outputs": [
    {
     "output_type": "execute_result",
     "data": {
      "text/plain": "                                              Value\nFact                                               \nEquatorial Diameter:                       6,792 km\nPolar Diameter:                            6,752 km\nMass:                 6.39 × 10^23 kg (0.11 Earths)\nMoons:                          2 (Phobos & Deimos)\nOrbit Distance:            227,943,824 km (1.38 AU)\nOrbit Period:                  687 days (1.9 years)\nSurface Temperature:                   -87 to -5 °C\nFirst Record:                     2nd millennium BC\nRecorded By:                   Egyptian astronomers",
      "text/html": "<div>\n<style scoped>\n    .dataframe tbody tr th:only-of-type {\n        vertical-align: middle;\n    }\n\n    .dataframe tbody tr th {\n        vertical-align: top;\n    }\n\n    .dataframe thead th {\n        text-align: right;\n    }\n</style>\n<table border=\"1\" class=\"dataframe\">\n  <thead>\n    <tr style=\"text-align: right;\">\n      <th></th>\n      <th>Value</th>\n    </tr>\n    <tr>\n      <th>Fact</th>\n      <th></th>\n    </tr>\n  </thead>\n  <tbody>\n    <tr>\n      <th>Equatorial Diameter:</th>\n      <td>6,792 km</td>\n    </tr>\n    <tr>\n      <th>Polar Diameter:</th>\n      <td>6,752 km</td>\n    </tr>\n    <tr>\n      <th>Mass:</th>\n      <td>6.39 × 10^23 kg (0.11 Earths)</td>\n    </tr>\n    <tr>\n      <th>Moons:</th>\n      <td>2 (Phobos &amp; Deimos)</td>\n    </tr>\n    <tr>\n      <th>Orbit Distance:</th>\n      <td>227,943,824 km (1.38 AU)</td>\n    </tr>\n    <tr>\n      <th>Orbit Period:</th>\n      <td>687 days (1.9 years)</td>\n    </tr>\n    <tr>\n      <th>Surface Temperature:</th>\n      <td>-87 to -5 °C</td>\n    </tr>\n    <tr>\n      <th>First Record:</th>\n      <td>2nd millennium BC</td>\n    </tr>\n    <tr>\n      <th>Recorded By:</th>\n      <td>Egyptian astronomers</td>\n    </tr>\n  </tbody>\n</table>\n</div>"
     },
     "metadata": {},
     "execution_count": 33
    }
   ],
   "source": [
    "# Create pandas df with Mars facts - - \n",
    "# Index [2] returns the cleanest data\n",
    "df1 = pd.read_html(\"https://space-facts.com/mars/\")[2]\n",
    "df1.columns=[\"Fact\", \"Value\"]\n",
    "df1=df1.set_index(\"Fact\")\n",
    "df1"
   ]
  },
  {
   "cell_type": "markdown",
   "metadata": {},
   "source": [
    "# Mars Hemispheres"
   ]
  },
  {
   "cell_type": "code",
   "execution_count": 34,
   "metadata": {},
   "outputs": [],
   "source": [
    "# Visit the Mars hemispheres scrape images from the astrogeology.usgs site\n",
    "hemispheres_url = \"https://astrogeology.usgs.gov/search/results?q=hemisphere+enhanced&k1=target&v1=Mars\"\n",
    "browser.visit(hemispheres_url)\n",
    "html = browser.html\n",
    "soup = bs(html, \"lxml\")"
   ]
  },
  {
   "cell_type": "code",
   "execution_count": 35,
   "metadata": {},
   "outputs": [],
   "source": [
    "# Mars hemispheres\n",
    "#print soup to idenitfy tags needed - turend off for deployment\n",
    "#print(soup.prettify())"
   ]
  },
  {
   "cell_type": "code",
   "execution_count": 36,
   "metadata": {},
   "outputs": [],
   "source": [
    "# Create a dictionary to store data using the keys img_url and title\n",
    "hemisphere_image_urls = []"
   ]
  },
  {
   "cell_type": "code",
   "execution_count": 37,
   "metadata": {},
   "outputs": [],
   "source": [
    "# Results are returned as an iterable list\n",
    "results = soup.find_all(\"div\",class_='item')"
   ]
  },
  {
   "cell_type": "code",
   "execution_count": 38,
   "metadata": {},
   "outputs": [],
   "source": [
    "# Loop through returned results\n",
    "for result in results:\n",
    "    hemisphere = {}\n",
    "        \n",
    "    # identifiy title\n",
    "    title = result.find('h3').text\n",
    "        \n",
    "    # identify image link\n",
    "    key = result.find(\"a\")[\"href\"]\n",
    "        \n",
    "    # join link together\n",
    "    link = \"https://astrogeology.usgs.gov/\" + key\n",
    "        \n",
    "    # read link\n",
    "    browser.visit(link)\n",
    "    html = browser.html\n",
    "    soup = bs(html, \"lxml\")\n",
    "        \n",
    "    # collect information for dictionary and append\n",
    "    downloads = soup.find(\"div\", class_=\"downloads\")\n",
    "    image_url = downloads.find(\"a\")[\"href\"]\n",
    "    hemisphere['title']= title\n",
    "    hemisphere['image_url']= image_url\n",
    "    hemisphere_image_urls.append(hemisphere)"
   ]
  },
  {
   "cell_type": "code",
   "execution_count": 39,
   "metadata": {},
   "outputs": [
    {
     "output_type": "execute_result",
     "data": {
      "text/plain": "[{'title': 'Cerberus Hemisphere Enhanced',\n  'image_url': 'https://astropedia.astrogeology.usgs.gov/download/Mars/Viking/cerberus_enhanced.tif/full.jpg'},\n {'title': 'Schiaparelli Hemisphere Enhanced',\n  'image_url': 'https://astropedia.astrogeology.usgs.gov/download/Mars/Viking/schiaparelli_enhanced.tif/full.jpg'},\n {'title': 'Syrtis Major Hemisphere Enhanced',\n  'image_url': 'https://astropedia.astrogeology.usgs.gov/download/Mars/Viking/syrtis_major_enhanced.tif/full.jpg'},\n {'title': 'Valles Marineris Hemisphere Enhanced',\n  'image_url': 'https://astropedia.astrogeology.usgs.gov/download/Mars/Viking/valles_marineris_enhanced.tif/full.jpg'}]"
     },
     "metadata": {},
     "execution_count": 39
    }
   ],
   "source": [
    "# Print a list of the dictionary with the titles and img_urls\n",
    "hemisphere_image_urls"
   ]
  },
  {
   "cell_type": "code",
   "execution_count": null,
   "metadata": {},
   "outputs": [],
   "source": []
  }
 ],
 "metadata": {
  "kernelspec": {
   "display_name": "Python 3.7.6 64-bit ('PythonData': conda)",
   "language": "python",
   "name": "python37664bitpythondatacondab73bfd16082e40c58c05a61ec360665f"
  },
  "language_info": {
   "codemirror_mode": {
    "name": "ipython",
    "version": 3
   },
   "file_extension": ".py",
   "mimetype": "text/x-python",
   "name": "python",
   "nbconvert_exporter": "python",
   "pygments_lexer": "ipython3",
   "version": "3.7.9-final"
  }
 },
 "nbformat": 4,
 "nbformat_minor": 2
}